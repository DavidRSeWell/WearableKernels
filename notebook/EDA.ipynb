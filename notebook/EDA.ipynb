{
 "cells": [
  {
   "cell_type": "markdown",
   "metadata": {},
   "source": [
    "# Experimenting with transfer learning using NLP model"
   ]
  },
  {
   "cell_type": "markdown",
   "metadata": {},
   "source": [
    "Outline of experiment in this document:\n",
    "* Data - WISDM Smartphone and Smartwatch Activity and Biometrics Dataset Data Set:\n",
    "    * https://archive.ics.uci.edu/ml/datasets/WISDM+Smartphone+and+Smartwatch+Activity+and+Biometrics+Dataset+\n",
    "    * The raw accelerometer and gyroscope sensor data is collected from the smartphone and smartwatch at a rate of 20Hz\n",
    "    * 51 test subjects as they perform 18 activities for 3 minutes apiece\n",
    "* Experiment 1: Word2vec NLP for transfer learning with voronoi\n",
    "    * Steps:\n",
    "        * Load Watch data\n",
    "        * Compute transform on data: Here simple downsample. Calculate mean of (x,y,z) over specific time interval\n",
    "        * Cluster Data using kmean - Vocab = cluser labels\n",
    "        * Create \"sentences using cluster data\"\n",
    "            * A senteces ex: X1,X2,X3,X4,X5 --> \"3 4 7 7 7\"\n",
    "        * There are 18 activity labels so convert to binary -> (activive , non active)\n",
    "        * Run Word2Vec model to obtain word features (cluster vectors) \"3\" -> X^d\n",
    "        * Run Logistic Regression for baseline - For cliend 1600 - 66% - in sample\n",
    "        * Run Voronoi - 89% - in sample\n",
    "* TODO: Run on all clients and run with in / out sample\n",
    "* TODO: Run transform model instead of word2vec"
   ]
  },
  {
   "cell_type": "code",
   "execution_count": 1,
   "metadata": {},
   "outputs": [],
   "source": [
    "# DO FFT - transform\n",
    "# Make sure to have a holdout set - never see this the whole way\n",
    "# Think about better feature transform, larger feature set, maybe parkinsons specific?, Amplitude, simple feature from fft, power spectrum, intensity"
   ]
  },
  {
   "cell_type": "code",
   "execution_count": 2,
   "metadata": {},
   "outputs": [],
   "source": [
    "import matplotlib.pyplot as plt\n",
    "import numpy as np\n",
    "import os\n",
    "import pandas as pd"
   ]
  },
  {
   "cell_type": "code",
   "execution_count": 3,
   "metadata": {},
   "outputs": [],
   "source": [
    "os.chdir('../')"
   ]
  },
  {
   "cell_type": "code",
   "execution_count": 4,
   "metadata": {},
   "outputs": [],
   "source": [
    "from Wearables.wisdm import WisdmData"
   ]
  },
  {
   "cell_type": "code",
   "execution_count": 5,
   "metadata": {},
   "outputs": [],
   "source": [
    "data_path = \"/Users/davidsewell/MLData/\""
   ]
  },
  {
   "cell_type": "code",
   "execution_count": 6,
   "metadata": {},
   "outputs": [
    {
     "name": "stdout",
     "output_type": "stream",
     "text": [
      "Could not process id for file .DS_Store\n"
     ]
    }
   ],
   "source": [
    "wisdm_data = WisdmData(data_path)"
   ]
  },
  {
   "cell_type": "code",
   "execution_count": 9,
   "metadata": {},
   "outputs": [],
   "source": [
    "watch_data = wisdm_data.load_subject_data(subject_id=1600,device_type=\"watch\",data_type=\"accel\")"
   ]
  },
  {
   "cell_type": "code",
   "execution_count": 10,
   "metadata": {},
   "outputs": [
    {
     "data": {
      "text/html": [
       "<div>\n",
       "<style scoped>\n",
       "    .dataframe tbody tr th:only-of-type {\n",
       "        vertical-align: middle;\n",
       "    }\n",
       "\n",
       "    .dataframe tbody tr th {\n",
       "        vertical-align: top;\n",
       "    }\n",
       "\n",
       "    .dataframe thead th {\n",
       "        text-align: right;\n",
       "    }\n",
       "</style>\n",
       "<table border=\"1\" class=\"dataframe\">\n",
       "  <thead>\n",
       "    <tr style=\"text-align: right;\">\n",
       "      <th></th>\n",
       "      <th>subject_id</th>\n",
       "      <th>activity_code</th>\n",
       "      <th>unix</th>\n",
       "      <th>x</th>\n",
       "      <th>y</th>\n",
       "      <th>z</th>\n",
       "    </tr>\n",
       "  </thead>\n",
       "  <tbody>\n",
       "    <tr>\n",
       "      <th>0</th>\n",
       "      <td>1600</td>\n",
       "      <td>A</td>\n",
       "      <td>90426708196641</td>\n",
       "      <td>7.091625</td>\n",
       "      <td>-0.591667</td>\n",
       "      <td>8.195502</td>\n",
       "    </tr>\n",
       "    <tr>\n",
       "      <th>1</th>\n",
       "      <td>1600</td>\n",
       "      <td>A</td>\n",
       "      <td>90426757696641</td>\n",
       "      <td>4.972757</td>\n",
       "      <td>-0.158317</td>\n",
       "      <td>6.696732</td>\n",
       "    </tr>\n",
       "    <tr>\n",
       "      <th>2</th>\n",
       "      <td>1600</td>\n",
       "      <td>A</td>\n",
       "      <td>90426807196641</td>\n",
       "      <td>3.253720</td>\n",
       "      <td>-0.191835</td>\n",
       "      <td>6.107758</td>\n",
       "    </tr>\n",
       "    <tr>\n",
       "      <th>3</th>\n",
       "      <td>1600</td>\n",
       "      <td>A</td>\n",
       "      <td>90426856696641</td>\n",
       "      <td>2.801216</td>\n",
       "      <td>-0.155922</td>\n",
       "      <td>5.997625</td>\n",
       "    </tr>\n",
       "    <tr>\n",
       "      <th>4</th>\n",
       "      <td>1600</td>\n",
       "      <td>A</td>\n",
       "      <td>90426906196641</td>\n",
       "      <td>3.770868</td>\n",
       "      <td>-1.051354</td>\n",
       "      <td>7.731027</td>\n",
       "    </tr>\n",
       "  </tbody>\n",
       "</table>\n",
       "</div>"
      ],
      "text/plain": [
       "   subject_id activity_code            unix         x         y         z\n",
       "0        1600             A  90426708196641  7.091625 -0.591667  8.195502\n",
       "1        1600             A  90426757696641  4.972757 -0.158317  6.696732\n",
       "2        1600             A  90426807196641  3.253720 -0.191835  6.107758\n",
       "3        1600             A  90426856696641  2.801216 -0.155922  5.997625\n",
       "4        1600             A  90426906196641  3.770868 -1.051354  7.731027"
      ]
     },
     "execution_count": 10,
     "metadata": {},
     "output_type": "execute_result"
    }
   ],
   "source": [
    "watch_data.head()"
   ]
  },
  {
   "cell_type": "code",
   "execution_count": 11,
   "metadata": {},
   "outputs": [
    {
     "data": {
      "text/plain": [
       "(65462, 6)"
      ]
     },
     "execution_count": 11,
     "metadata": {},
     "output_type": "execute_result"
    }
   ],
   "source": [
    "watch_data.shape"
   ]
  },
  {
   "cell_type": "code",
   "execution_count": 12,
   "metadata": {},
   "outputs": [],
   "source": [
    "watch_data['datetime'] = pd.to_datetime(watch_data['unix'])"
   ]
  },
  {
   "cell_type": "code",
   "execution_count": 13,
   "metadata": {},
   "outputs": [
    {
     "data": {
      "text/plain": [
       "(Timestamp('1970-01-01 22:10:17.308824838'),\n",
       " Timestamp('1970-01-02 01:42:50.102257932'))"
      ]
     },
     "execution_count": 13,
     "metadata": {},
     "output_type": "execute_result"
    }
   ],
   "source": [
    "watch_data['datetime'].min() , watch_data['datetime'].max()"
   ]
  },
  {
   "cell_type": "code",
   "execution_count": 14,
   "metadata": {},
   "outputs": [],
   "source": [
    "tot_time = watch_data['datetime'].max() - watch_data['datetime'].min()"
   ]
  },
  {
   "cell_type": "code",
   "execution_count": 15,
   "metadata": {},
   "outputs": [
    {
     "data": {
      "text/plain": [
       "5.133469259723965"
      ]
     },
     "execution_count": 15,
     "metadata": {},
     "output_type": "execute_result"
    }
   ],
   "source": [
    "watch_data.shape[0] / tot_time.seconds"
   ]
  },
  {
   "cell_type": "code",
   "execution_count": 16,
   "metadata": {},
   "outputs": [
    {
     "data": {
      "text/plain": [
       "425.06666666666666"
      ]
     },
     "execution_count": 16,
     "metadata": {},
     "output_type": "execute_result"
    }
   ],
   "source": [
    "tot_time.seconds / 30.0"
   ]
  },
  {
   "cell_type": "code",
   "execution_count": 17,
   "metadata": {},
   "outputs": [
    {
     "data": {
      "text/plain": [
       "3.542222222222222"
      ]
     },
     "execution_count": 17,
     "metadata": {},
     "output_type": "execute_result"
    }
   ],
   "source": [
    "tot_time.seconds / (3600.0)"
   ]
  },
  {
   "cell_type": "code",
   "execution_count": 18,
   "metadata": {},
   "outputs": [],
   "source": [
    "watch_data = watch_data.drop('unix',axis=1)"
   ]
  },
  {
   "cell_type": "code",
   "execution_count": 19,
   "metadata": {},
   "outputs": [
    {
     "data": {
      "text/html": [
       "<div>\n",
       "<style scoped>\n",
       "    .dataframe tbody tr th:only-of-type {\n",
       "        vertical-align: middle;\n",
       "    }\n",
       "\n",
       "    .dataframe tbody tr th {\n",
       "        vertical-align: top;\n",
       "    }\n",
       "\n",
       "    .dataframe thead th {\n",
       "        text-align: right;\n",
       "    }\n",
       "</style>\n",
       "<table border=\"1\" class=\"dataframe\">\n",
       "  <thead>\n",
       "    <tr style=\"text-align: right;\">\n",
       "      <th></th>\n",
       "      <th>subject_id</th>\n",
       "      <th>activity_code</th>\n",
       "      <th>x</th>\n",
       "      <th>y</th>\n",
       "      <th>z</th>\n",
       "      <th>datetime</th>\n",
       "    </tr>\n",
       "  </thead>\n",
       "  <tbody>\n",
       "    <tr>\n",
       "      <th>0</th>\n",
       "      <td>1600</td>\n",
       "      <td>A</td>\n",
       "      <td>7.091625</td>\n",
       "      <td>-0.591667</td>\n",
       "      <td>8.195502</td>\n",
       "      <td>1970-01-02 01:07:06.708196641</td>\n",
       "    </tr>\n",
       "    <tr>\n",
       "      <th>1</th>\n",
       "      <td>1600</td>\n",
       "      <td>A</td>\n",
       "      <td>4.972757</td>\n",
       "      <td>-0.158317</td>\n",
       "      <td>6.696732</td>\n",
       "      <td>1970-01-02 01:07:06.757696641</td>\n",
       "    </tr>\n",
       "    <tr>\n",
       "      <th>2</th>\n",
       "      <td>1600</td>\n",
       "      <td>A</td>\n",
       "      <td>3.253720</td>\n",
       "      <td>-0.191835</td>\n",
       "      <td>6.107758</td>\n",
       "      <td>1970-01-02 01:07:06.807196641</td>\n",
       "    </tr>\n",
       "    <tr>\n",
       "      <th>3</th>\n",
       "      <td>1600</td>\n",
       "      <td>A</td>\n",
       "      <td>2.801216</td>\n",
       "      <td>-0.155922</td>\n",
       "      <td>5.997625</td>\n",
       "      <td>1970-01-02 01:07:06.856696641</td>\n",
       "    </tr>\n",
       "    <tr>\n",
       "      <th>4</th>\n",
       "      <td>1600</td>\n",
       "      <td>A</td>\n",
       "      <td>3.770868</td>\n",
       "      <td>-1.051354</td>\n",
       "      <td>7.731027</td>\n",
       "      <td>1970-01-02 01:07:06.906196641</td>\n",
       "    </tr>\n",
       "  </tbody>\n",
       "</table>\n",
       "</div>"
      ],
      "text/plain": [
       "   subject_id activity_code         x         y         z  \\\n",
       "0        1600             A  7.091625 -0.591667  8.195502   \n",
       "1        1600             A  4.972757 -0.158317  6.696732   \n",
       "2        1600             A  3.253720 -0.191835  6.107758   \n",
       "3        1600             A  2.801216 -0.155922  5.997625   \n",
       "4        1600             A  3.770868 -1.051354  7.731027   \n",
       "\n",
       "                       datetime  \n",
       "0 1970-01-02 01:07:06.708196641  \n",
       "1 1970-01-02 01:07:06.757696641  \n",
       "2 1970-01-02 01:07:06.807196641  \n",
       "3 1970-01-02 01:07:06.856696641  \n",
       "4 1970-01-02 01:07:06.906196641  "
      ]
     },
     "execution_count": 19,
     "metadata": {},
     "output_type": "execute_result"
    }
   ],
   "source": [
    "watch_data.head()"
   ]
  },
  {
   "cell_type": "code",
   "execution_count": 20,
   "metadata": {},
   "outputs": [
    {
     "data": {
      "text/plain": [
       "{'A',\n",
       " 'B',\n",
       " 'C',\n",
       " 'D',\n",
       " 'E',\n",
       " 'F',\n",
       " 'G',\n",
       " 'H',\n",
       " 'I',\n",
       " 'J',\n",
       " 'K',\n",
       " 'L',\n",
       " 'M',\n",
       " 'O',\n",
       " 'P',\n",
       " 'Q',\n",
       " 'R',\n",
       " 'S'}"
      ]
     },
     "execution_count": 20,
     "metadata": {},
     "output_type": "execute_result"
    }
   ],
   "source": [
    "set(watch_data['activity_code'])"
   ]
  },
  {
   "cell_type": "code",
   "execution_count": 21,
   "metadata": {},
   "outputs": [
    {
     "data": {
      "text/plain": [
       "array([<AxesSubplot:>, <AxesSubplot:>, <AxesSubplot:>], dtype=object)"
      ]
     },
     "execution_count": 21,
     "metadata": {},
     "output_type": "execute_result"
    },
    {
     "data": {
      "image/png": "[encoded data removed]",
      "text/plain": [
       "<Figure size 432x288 with 3 Axes>"
      ]
     },
     "metadata": {
      "needs_background": "light"
     },
     "output_type": "display_data"
    }
   ],
   "source": [
    "watch_data[['x','y','z']].plot(subplots=True)"
   ]
  },
  {
   "cell_type": "code",
   "execution_count": 22,
   "metadata": {},
   "outputs": [],
   "source": [
    "watch_data = watch_data.set_index('datetime')"
   ]
  },
  {
   "cell_type": "code",
   "execution_count": 30,
   "metadata": {},
   "outputs": [
    {
     "data": {
      "text/plain": [
       "Index(['subject_id', 'activity_code', 'x', 'y', 'z'], dtype='object')"
      ]
     },
     "execution_count": 30,
     "metadata": {},
     "output_type": "execute_result"
    }
   ],
   "source": [
    "watch_data.columns"
   ]
  },
  {
   "cell_type": "code",
   "execution_count": 36,
   "metadata": {},
   "outputs": [],
   "source": [
    "down2 = watch_data.groupby('subject_id').resample('5s').mean().dropna()"
   ]
  },
  {
   "cell_type": "code",
   "execution_count": 51,
   "metadata": {},
   "outputs": [
    {
     "data": {
      "text/plain": [
       "Int64Index([1600, 1600, 1600, 1600, 1600, 1600, 1600, 1600, 1600, 1600,\n",
       "            ...\n",
       "            1600, 1600, 1600, 1600, 1600, 1600, 1600, 1600, 1600, 1600],\n",
       "           dtype='int64', name='subject_id', length=666)"
      ]
     },
     "execution_count": 51,
     "metadata": {},
     "output_type": "execute_result"
    }
   ],
   "source": [
    "down2.index.get_level_values(0)"
   ]
  },
  {
   "cell_type": "code",
   "execution_count": 52,
   "metadata": {},
   "outputs": [],
   "source": [
    "down2['subject'] = down2.index.get_level_values(0)"
   ]
  },
  {
   "cell_type": "code",
   "execution_count": 53,
   "metadata": {},
   "outputs": [
    {
     "data": {
      "text/html": [
       "<div>\n",
       "<style scoped>\n",
       "    .dataframe tbody tr th:only-of-type {\n",
       "        vertical-align: middle;\n",
       "    }\n",
       "\n",
       "    .dataframe tbody tr th {\n",
       "        vertical-align: top;\n",
       "    }\n",
       "\n",
       "    .dataframe thead th {\n",
       "        text-align: right;\n",
       "    }\n",
       "</style>\n",
       "<table border=\"1\" class=\"dataframe\">\n",
       "  <thead>\n",
       "    <tr style=\"text-align: right;\">\n",
       "      <th></th>\n",
       "      <th></th>\n",
       "      <th>subject_id</th>\n",
       "      <th>x</th>\n",
       "      <th>y</th>\n",
       "      <th>z</th>\n",
       "      <th>subject</th>\n",
       "    </tr>\n",
       "    <tr>\n",
       "      <th>subject_id</th>\n",
       "      <th>datetime</th>\n",
       "      <th></th>\n",
       "      <th></th>\n",
       "      <th></th>\n",
       "      <th></th>\n",
       "      <th></th>\n",
       "    </tr>\n",
       "  </thead>\n",
       "  <tbody>\n",
       "    <tr>\n",
       "      <th rowspan=\"11\" valign=\"top\">1600</th>\n",
       "      <th>1970-01-01 22:10:15</th>\n",
       "      <td>1600.0</td>\n",
       "      <td>2.219060</td>\n",
       "      <td>-0.877181</td>\n",
       "      <td>9.689364</td>\n",
       "      <td>1600</td>\n",
       "    </tr>\n",
       "    <tr>\n",
       "      <th>1970-01-01 22:10:20</th>\n",
       "      <td>1600.0</td>\n",
       "      <td>2.931760</td>\n",
       "      <td>-1.670458</td>\n",
       "      <td>9.175952</td>\n",
       "      <td>1600</td>\n",
       "    </tr>\n",
       "    <tr>\n",
       "      <th>1970-01-01 22:10:25</th>\n",
       "      <td>1600.0</td>\n",
       "      <td>2.937422</td>\n",
       "      <td>-1.654897</td>\n",
       "      <td>9.188616</td>\n",
       "      <td>1600</td>\n",
       "    </tr>\n",
       "    <tr>\n",
       "      <th>1970-01-01 22:10:30</th>\n",
       "      <td>1600.0</td>\n",
       "      <td>2.943252</td>\n",
       "      <td>-1.569615</td>\n",
       "      <td>9.204060</td>\n",
       "      <td>1600</td>\n",
       "    </tr>\n",
       "    <tr>\n",
       "      <th>1970-01-01 22:10:35</th>\n",
       "      <td>1600.0</td>\n",
       "      <td>2.895176</td>\n",
       "      <td>-1.589822</td>\n",
       "      <td>9.219454</td>\n",
       "      <td>1600</td>\n",
       "    </tr>\n",
       "    <tr>\n",
       "      <th>...</th>\n",
       "      <td>...</td>\n",
       "      <td>...</td>\n",
       "      <td>...</td>\n",
       "      <td>...</td>\n",
       "      <td>...</td>\n",
       "    </tr>\n",
       "    <tr>\n",
       "      <th>1970-01-02 01:42:30</th>\n",
       "      <td>1600.0</td>\n",
       "      <td>-9.012948</td>\n",
       "      <td>-1.509269</td>\n",
       "      <td>2.525458</td>\n",
       "      <td>1600</td>\n",
       "    </tr>\n",
       "    <tr>\n",
       "      <th>1970-01-02 01:42:35</th>\n",
       "      <td>1600.0</td>\n",
       "      <td>-8.887133</td>\n",
       "      <td>-2.041907</td>\n",
       "      <td>2.762699</td>\n",
       "      <td>1600</td>\n",
       "    </tr>\n",
       "    <tr>\n",
       "      <th>1970-01-02 01:42:40</th>\n",
       "      <td>1600.0</td>\n",
       "      <td>-9.218467</td>\n",
       "      <td>-0.990613</td>\n",
       "      <td>2.013625</td>\n",
       "      <td>1600</td>\n",
       "    </tr>\n",
       "    <tr>\n",
       "      <th>1970-01-02 01:42:45</th>\n",
       "      <td>1600.0</td>\n",
       "      <td>-9.087432</td>\n",
       "      <td>-2.430989</td>\n",
       "      <td>1.265557</td>\n",
       "      <td>1600</td>\n",
       "    </tr>\n",
       "    <tr>\n",
       "      <th>1970-01-02 01:42:50</th>\n",
       "      <td>1600.0</td>\n",
       "      <td>-7.648676</td>\n",
       "      <td>1.049957</td>\n",
       "      <td>3.716749</td>\n",
       "      <td>1600</td>\n",
       "    </tr>\n",
       "  </tbody>\n",
       "</table>\n",
       "<p>666 rows × 5 columns</p>\n",
       "</div>"
      ],
      "text/plain": [
       "                                subject_id         x         y         z  \\\n",
       "subject_id datetime                                                        \n",
       "1600       1970-01-01 22:10:15      1600.0  2.219060 -0.877181  9.689364   \n",
       "           1970-01-01 22:10:20      1600.0  2.931760 -1.670458  9.175952   \n",
       "           1970-01-01 22:10:25      1600.0  2.937422 -1.654897  9.188616   \n",
       "           1970-01-01 22:10:30      1600.0  2.943252 -1.569615  9.204060   \n",
       "           1970-01-01 22:10:35      1600.0  2.895176 -1.589822  9.219454   \n",
       "...                                    ...       ...       ...       ...   \n",
       "           1970-01-02 01:42:30      1600.0 -9.012948 -1.509269  2.525458   \n",
       "           1970-01-02 01:42:35      1600.0 -8.887133 -2.041907  2.762699   \n",
       "           1970-01-02 01:42:40      1600.0 -9.218467 -0.990613  2.013625   \n",
       "           1970-01-02 01:42:45      1600.0 -9.087432 -2.430989  1.265557   \n",
       "           1970-01-02 01:42:50      1600.0 -7.648676  1.049957  3.716749   \n",
       "\n",
       "                                subject  \n",
       "subject_id datetime                      \n",
       "1600       1970-01-01 22:10:15     1600  \n",
       "           1970-01-01 22:10:20     1600  \n",
       "           1970-01-01 22:10:25     1600  \n",
       "           1970-01-01 22:10:30     1600  \n",
       "           1970-01-01 22:10:35     1600  \n",
       "...                                 ...  \n",
       "           1970-01-02 01:42:30     1600  \n",
       "           1970-01-02 01:42:35     1600  \n",
       "           1970-01-02 01:42:40     1600  \n",
       "           1970-01-02 01:42:45     1600  \n",
       "           1970-01-02 01:42:50     1600  \n",
       "\n",
       "[666 rows x 5 columns]"
      ]
     },
     "execution_count": 53,
     "metadata": {},
     "output_type": "execute_result"
    }
   ],
   "source": [
    "down2"
   ]
  },
  {
   "cell_type": "code",
   "execution_count": 48,
   "metadata": {},
   "outputs": [
    {
     "data": {
      "text/plain": [
       "(666,)"
      ]
     },
     "execution_count": 48,
     "metadata": {},
     "output_type": "execute_result"
    }
   ],
   "source": [
    "down2.index[:].to_numpy()."
   ]
  },
  {
   "cell_type": "code",
   "execution_count": 23,
   "metadata": {},
   "outputs": [],
   "source": [
    "downsampled_data = watch_data.resample('5S').mean()"
   ]
  },
  {
   "cell_type": "code",
   "execution_count": 24,
   "metadata": {},
   "outputs": [
    {
     "data": {
      "text/plain": [
       "(2552, 4)"
      ]
     },
     "execution_count": 24,
     "metadata": {},
     "output_type": "execute_result"
    }
   ],
   "source": [
    "downsampled_data.shape"
   ]
  },
  {
   "cell_type": "code",
   "execution_count": 25,
   "metadata": {},
   "outputs": [
    {
     "data": {
      "text/html": [
       "<div>\n",
       "<style scoped>\n",
       "    .dataframe tbody tr th:only-of-type {\n",
       "        vertical-align: middle;\n",
       "    }\n",
       "\n",
       "    .dataframe tbody tr th {\n",
       "        vertical-align: top;\n",
       "    }\n",
       "\n",
       "    .dataframe thead th {\n",
       "        text-align: right;\n",
       "    }\n",
       "</style>\n",
       "<table border=\"1\" class=\"dataframe\">\n",
       "  <thead>\n",
       "    <tr style=\"text-align: right;\">\n",
       "      <th></th>\n",
       "      <th>subject_id</th>\n",
       "      <th>x</th>\n",
       "      <th>y</th>\n",
       "      <th>z</th>\n",
       "    </tr>\n",
       "    <tr>\n",
       "      <th>datetime</th>\n",
       "      <th></th>\n",
       "      <th></th>\n",
       "      <th></th>\n",
       "      <th></th>\n",
       "    </tr>\n",
       "  </thead>\n",
       "  <tbody>\n",
       "    <tr>\n",
       "      <th>1970-01-01 22:10:15</th>\n",
       "      <td>1600.0</td>\n",
       "      <td>2.219060</td>\n",
       "      <td>-0.877181</td>\n",
       "      <td>9.689364</td>\n",
       "    </tr>\n",
       "    <tr>\n",
       "      <th>1970-01-01 22:10:20</th>\n",
       "      <td>1600.0</td>\n",
       "      <td>2.931760</td>\n",
       "      <td>-1.670458</td>\n",
       "      <td>9.175952</td>\n",
       "    </tr>\n",
       "    <tr>\n",
       "      <th>1970-01-01 22:10:25</th>\n",
       "      <td>1600.0</td>\n",
       "      <td>2.937422</td>\n",
       "      <td>-1.654897</td>\n",
       "      <td>9.188616</td>\n",
       "    </tr>\n",
       "    <tr>\n",
       "      <th>1970-01-01 22:10:30</th>\n",
       "      <td>1600.0</td>\n",
       "      <td>2.943252</td>\n",
       "      <td>-1.569615</td>\n",
       "      <td>9.204060</td>\n",
       "    </tr>\n",
       "    <tr>\n",
       "      <th>1970-01-01 22:10:35</th>\n",
       "      <td>1600.0</td>\n",
       "      <td>2.895176</td>\n",
       "      <td>-1.589822</td>\n",
       "      <td>9.219454</td>\n",
       "    </tr>\n",
       "  </tbody>\n",
       "</table>\n",
       "</div>"
      ],
      "text/plain": [
       "                     subject_id         x         y         z\n",
       "datetime                                                     \n",
       "1970-01-01 22:10:15      1600.0  2.219060 -0.877181  9.689364\n",
       "1970-01-01 22:10:20      1600.0  2.931760 -1.670458  9.175952\n",
       "1970-01-01 22:10:25      1600.0  2.937422 -1.654897  9.188616\n",
       "1970-01-01 22:10:30      1600.0  2.943252 -1.569615  9.204060\n",
       "1970-01-01 22:10:35      1600.0  2.895176 -1.589822  9.219454"
      ]
     },
     "execution_count": 25,
     "metadata": {},
     "output_type": "execute_result"
    }
   ],
   "source": [
    "downsampled_data.head()"
   ]
  },
  {
   "cell_type": "code",
   "execution_count": 26,
   "metadata": {},
   "outputs": [],
   "source": [
    "downsampled_data = downsampled_data.dropna()"
   ]
  },
  {
   "cell_type": "code",
   "execution_count": 27,
   "metadata": {},
   "outputs": [
    {
     "data": {
      "text/plain": [
       "(666, 4)"
      ]
     },
     "execution_count": 27,
     "metadata": {},
     "output_type": "execute_result"
    }
   ],
   "source": [
    "downsampled_data.shape"
   ]
  },
  {
   "cell_type": "code",
   "execution_count": 28,
   "metadata": {},
   "outputs": [
    {
     "data": {
      "text/html": [
       "<div>\n",
       "<style scoped>\n",
       "    .dataframe tbody tr th:only-of-type {\n",
       "        vertical-align: middle;\n",
       "    }\n",
       "\n",
       "    .dataframe tbody tr th {\n",
       "        vertical-align: top;\n",
       "    }\n",
       "\n",
       "    .dataframe thead th {\n",
       "        text-align: right;\n",
       "    }\n",
       "</style>\n",
       "<table border=\"1\" class=\"dataframe\">\n",
       "  <thead>\n",
       "    <tr style=\"text-align: right;\">\n",
       "      <th></th>\n",
       "      <th>subject_id</th>\n",
       "      <th>x</th>\n",
       "      <th>y</th>\n",
       "      <th>z</th>\n",
       "    </tr>\n",
       "    <tr>\n",
       "      <th>datetime</th>\n",
       "      <th></th>\n",
       "      <th></th>\n",
       "      <th></th>\n",
       "      <th></th>\n",
       "    </tr>\n",
       "  </thead>\n",
       "  <tbody>\n",
       "    <tr>\n",
       "      <th>1970-01-01 22:10:15</th>\n",
       "      <td>1600.0</td>\n",
       "      <td>2.219060</td>\n",
       "      <td>-0.877181</td>\n",
       "      <td>9.689364</td>\n",
       "    </tr>\n",
       "    <tr>\n",
       "      <th>1970-01-01 22:10:20</th>\n",
       "      <td>1600.0</td>\n",
       "      <td>2.931760</td>\n",
       "      <td>-1.670458</td>\n",
       "      <td>9.175952</td>\n",
       "    </tr>\n",
       "    <tr>\n",
       "      <th>1970-01-01 22:10:25</th>\n",
       "      <td>1600.0</td>\n",
       "      <td>2.937422</td>\n",
       "      <td>-1.654897</td>\n",
       "      <td>9.188616</td>\n",
       "    </tr>\n",
       "    <tr>\n",
       "      <th>1970-01-01 22:10:30</th>\n",
       "      <td>1600.0</td>\n",
       "      <td>2.943252</td>\n",
       "      <td>-1.569615</td>\n",
       "      <td>9.204060</td>\n",
       "    </tr>\n",
       "    <tr>\n",
       "      <th>1970-01-01 22:10:35</th>\n",
       "      <td>1600.0</td>\n",
       "      <td>2.895176</td>\n",
       "      <td>-1.589822</td>\n",
       "      <td>9.219454</td>\n",
       "    </tr>\n",
       "  </tbody>\n",
       "</table>\n",
       "</div>"
      ],
      "text/plain": [
       "                     subject_id         x         y         z\n",
       "datetime                                                     \n",
       "1970-01-01 22:10:15      1600.0  2.219060 -0.877181  9.689364\n",
       "1970-01-01 22:10:20      1600.0  2.931760 -1.670458  9.175952\n",
       "1970-01-01 22:10:25      1600.0  2.937422 -1.654897  9.188616\n",
       "1970-01-01 22:10:30      1600.0  2.943252 -1.569615  9.204060\n",
       "1970-01-01 22:10:35      1600.0  2.895176 -1.589822  9.219454"
      ]
     },
     "execution_count": 28,
     "metadata": {},
     "output_type": "execute_result"
    }
   ],
   "source": [
    "downsampled_data.head()"
   ]
  },
  {
   "cell_type": "code",
   "execution_count": 33,
   "metadata": {},
   "outputs": [],
   "source": [
    "def assign_activity(times,df):\n",
    "    \n",
    "    activities = []\n",
    "    for i in range(len(times) - 1):\n",
    "        min_ = times[i]\n",
    "        max_ = times[i + 1]\n",
    "        set_activity = list(set(df[(df.index >= min_) & (df.index <= max_) ]['activity_code']))\n",
    "        if len(set_activity) > 1:\n",
    "            print(\"OH No More than one activity\")\n",
    "            print(f\"MIN:{min_}, MAX:{max_}\")\n",
    "            print(set_activity)\n",
    "            return\n",
    "        elif len(set_activity) == 0:\n",
    "            print(\"0 len\")\n",
    "            print(f\"MIN:{min_}, MAX:{max_}\")\n",
    "            print(set_activity)\n",
    "            print(i)\n",
    "            return\n",
    "        else:\n",
    "            activities.append(set_activity[0])\n",
    "    \n",
    "    set_activity = list(set(df[(df.index >= times[-1])]['activity_code']))\n",
    "    if len(set_activity) > 1:\n",
    "        print(\"OH No More than one activity\")\n",
    "        print(f\"MIN:{min_}, MAX:{max_}\")\n",
    "        print(set_activity)\n",
    "        return\n",
    "    elif len(set_activity) == 0:\n",
    "        print(\"0 len\")\n",
    "        print(f\"MIN:{min_}, MAX:{max_}\")\n",
    "        print(set_activity)\n",
    "        return\n",
    "    activities.append(set_activity[0])\n",
    "    return activities\n",
    "    \n",
    "    "
   ]
  },
  {
   "cell_type": "code",
   "execution_count": 34,
   "metadata": {},
   "outputs": [],
   "source": [
    "downsampled_data['activity'] = assign_activity(downsampled_data.index,watch_data)"
   ]
  },
  {
   "cell_type": "code",
   "execution_count": 35,
   "metadata": {},
   "outputs": [
    {
     "data": {
      "text/html": [
       "<div>\n",
       "<style scoped>\n",
       "    .dataframe tbody tr th:only-of-type {\n",
       "        vertical-align: middle;\n",
       "    }\n",
       "\n",
       "    .dataframe tbody tr th {\n",
       "        vertical-align: top;\n",
       "    }\n",
       "\n",
       "    .dataframe thead th {\n",
       "        text-align: right;\n",
       "    }\n",
       "</style>\n",
       "<table border=\"1\" class=\"dataframe\">\n",
       "  <thead>\n",
       "    <tr style=\"text-align: right;\">\n",
       "      <th></th>\n",
       "      <th>subject_id</th>\n",
       "      <th>x</th>\n",
       "      <th>y</th>\n",
       "      <th>z</th>\n",
       "      <th>activity</th>\n",
       "    </tr>\n",
       "    <tr>\n",
       "      <th>datetime</th>\n",
       "      <th></th>\n",
       "      <th></th>\n",
       "      <th></th>\n",
       "      <th></th>\n",
       "      <th></th>\n",
       "    </tr>\n",
       "  </thead>\n",
       "  <tbody>\n",
       "    <tr>\n",
       "      <th>1970-01-01 22:10:15</th>\n",
       "      <td>1600.0</td>\n",
       "      <td>2.219060</td>\n",
       "      <td>-0.877181</td>\n",
       "      <td>9.689364</td>\n",
       "      <td>D</td>\n",
       "    </tr>\n",
       "    <tr>\n",
       "      <th>1970-01-01 22:10:20</th>\n",
       "      <td>1600.0</td>\n",
       "      <td>2.931760</td>\n",
       "      <td>-1.670458</td>\n",
       "      <td>9.175952</td>\n",
       "      <td>D</td>\n",
       "    </tr>\n",
       "    <tr>\n",
       "      <th>1970-01-01 22:10:25</th>\n",
       "      <td>1600.0</td>\n",
       "      <td>2.937422</td>\n",
       "      <td>-1.654897</td>\n",
       "      <td>9.188616</td>\n",
       "      <td>D</td>\n",
       "    </tr>\n",
       "    <tr>\n",
       "      <th>1970-01-01 22:10:30</th>\n",
       "      <td>1600.0</td>\n",
       "      <td>2.943252</td>\n",
       "      <td>-1.569615</td>\n",
       "      <td>9.204060</td>\n",
       "      <td>D</td>\n",
       "    </tr>\n",
       "    <tr>\n",
       "      <th>1970-01-01 22:10:35</th>\n",
       "      <td>1600.0</td>\n",
       "      <td>2.895176</td>\n",
       "      <td>-1.589822</td>\n",
       "      <td>9.219454</td>\n",
       "      <td>D</td>\n",
       "    </tr>\n",
       "  </tbody>\n",
       "</table>\n",
       "</div>"
      ],
      "text/plain": [
       "                     subject_id         x         y         z activity\n",
       "datetime                                                              \n",
       "1970-01-01 22:10:15      1600.0  2.219060 -0.877181  9.689364        D\n",
       "1970-01-01 22:10:20      1600.0  2.931760 -1.670458  9.175952        D\n",
       "1970-01-01 22:10:25      1600.0  2.937422 -1.654897  9.188616        D\n",
       "1970-01-01 22:10:30      1600.0  2.943252 -1.569615  9.204060        D\n",
       "1970-01-01 22:10:35      1600.0  2.895176 -1.589822  9.219454        D"
      ]
     },
     "execution_count": 35,
     "metadata": {},
     "output_type": "execute_result"
    }
   ],
   "source": [
    "downsampled_data.head()"
   ]
  },
  {
   "cell_type": "code",
   "execution_count": 36,
   "metadata": {},
   "outputs": [
    {
     "data": {
      "text/plain": [
       "array([<AxesSubplot:xlabel='datetime'>, <AxesSubplot:xlabel='datetime'>,\n",
       "       <AxesSubplot:xlabel='datetime'>], dtype=object)"
      ]
     },
     "execution_count": 36,
     "metadata": {},
     "output_type": "execute_result"
    },
    {
     "data": {
      "image/png": "[encoded data removed]",
      "text/plain": [
       "<Figure size 432x288 with 3 Axes>"
      ]
     },
     "metadata": {
      "needs_background": "light"
     },
     "output_type": "display_data"
    }
   ],
   "source": [
    "downsampled_data[['x','y','z']].plot(subplots=True)"
   ]
  },
  {
   "cell_type": "code",
   "execution_count": 37,
   "metadata": {},
   "outputs": [],
   "source": [
    "downsampled_data['datetime'] = downsampled_data.index"
   ]
  },
  {
   "cell_type": "code",
   "execution_count": 38,
   "metadata": {},
   "outputs": [],
   "source": [
    "downsampled_data['activity_start'] = downsampled_data.groupby(by=\"activity\")['datetime'].transform('min')\n",
    "downsampled_data['activity_end'] = downsampled_data.groupby(by=\"activity\")['datetime'].transform('max')"
   ]
  },
  {
   "cell_type": "code",
   "execution_count": 39,
   "metadata": {},
   "outputs": [
    {
     "data": {
      "text/plain": [
       "[Timestamp('1970-01-02 01:16:20'),\n",
       " Timestamp('1970-01-02 01:32:10'),\n",
       " Timestamp('1970-01-02 01:03:25'),\n",
       " Timestamp('1970-01-01 22:10:15'),\n",
       " Timestamp('1970-01-01 23:11:45'),\n",
       " Timestamp('1970-01-01 22:15:10'),\n",
       " Timestamp('1970-01-02 00:50:50'),\n",
       " Timestamp('1970-01-02 01:36:00'),\n",
       " Timestamp('1970-01-01 22:55:40'),\n",
       " Timestamp('1970-01-01 23:18:30'),\n",
       " Timestamp('1970-01-02 01:07:05'),\n",
       " Timestamp('1970-01-02 01:12:40'),\n",
       " Timestamp('1970-01-02 01:20:25'),\n",
       " Timestamp('1970-01-02 01:39:50'),\n",
       " Timestamp('1970-01-01 23:07:05'),\n",
       " Timestamp('1970-01-01 22:47:25'),\n",
       " Timestamp('1970-01-01 23:26:35'),\n",
       " Timestamp('1970-01-01 22:34:45')]"
      ]
     },
     "execution_count": 39,
     "metadata": {},
     "output_type": "execute_result"
    }
   ],
   "source": [
    "list(set(downsampled_data['activity_start']))"
   ]
  },
  {
   "cell_type": "code",
   "execution_count": 41,
   "metadata": {},
   "outputs": [
    {
     "data": {
      "text/html": [
       "<div>\n",
       "<style scoped>\n",
       "    .dataframe tbody tr th:only-of-type {\n",
       "        vertical-align: middle;\n",
       "    }\n",
       "\n",
       "    .dataframe tbody tr th {\n",
       "        vertical-align: top;\n",
       "    }\n",
       "\n",
       "    .dataframe thead th {\n",
       "        text-align: right;\n",
       "    }\n",
       "</style>\n",
       "<table border=\"1\" class=\"dataframe\">\n",
       "  <thead>\n",
       "    <tr style=\"text-align: right;\">\n",
       "      <th></th>\n",
       "      <th>activity</th>\n",
       "      <th>activity_start</th>\n",
       "      <th>activity_end</th>\n",
       "    </tr>\n",
       "    <tr>\n",
       "      <th>datetime</th>\n",
       "      <th></th>\n",
       "      <th></th>\n",
       "      <th></th>\n",
       "    </tr>\n",
       "  </thead>\n",
       "  <tbody>\n",
       "    <tr>\n",
       "      <th>1970-01-01 22:10:15</th>\n",
       "      <td>D</td>\n",
       "      <td>1970-01-01 22:10:15</td>\n",
       "      <td>1970-01-01 22:13:15</td>\n",
       "    </tr>\n",
       "    <tr>\n",
       "      <th>1970-01-01 22:10:20</th>\n",
       "      <td>D</td>\n",
       "      <td>1970-01-01 22:10:15</td>\n",
       "      <td>1970-01-01 22:13:15</td>\n",
       "    </tr>\n",
       "    <tr>\n",
       "      <th>1970-01-01 22:10:25</th>\n",
       "      <td>D</td>\n",
       "      <td>1970-01-01 22:10:15</td>\n",
       "      <td>1970-01-01 22:13:15</td>\n",
       "    </tr>\n",
       "    <tr>\n",
       "      <th>1970-01-01 22:10:30</th>\n",
       "      <td>D</td>\n",
       "      <td>1970-01-01 22:10:15</td>\n",
       "      <td>1970-01-01 22:13:15</td>\n",
       "    </tr>\n",
       "    <tr>\n",
       "      <th>1970-01-01 22:10:35</th>\n",
       "      <td>D</td>\n",
       "      <td>1970-01-01 22:10:15</td>\n",
       "      <td>1970-01-01 22:13:15</td>\n",
       "    </tr>\n",
       "    <tr>\n",
       "      <th>...</th>\n",
       "      <td>...</td>\n",
       "      <td>...</td>\n",
       "      <td>...</td>\n",
       "    </tr>\n",
       "    <tr>\n",
       "      <th>1970-01-02 01:42:30</th>\n",
       "      <td>G</td>\n",
       "      <td>1970-01-02 01:39:50</td>\n",
       "      <td>1970-01-02 01:42:50</td>\n",
       "    </tr>\n",
       "    <tr>\n",
       "      <th>1970-01-02 01:42:35</th>\n",
       "      <td>G</td>\n",
       "      <td>1970-01-02 01:39:50</td>\n",
       "      <td>1970-01-02 01:42:50</td>\n",
       "    </tr>\n",
       "    <tr>\n",
       "      <th>1970-01-02 01:42:40</th>\n",
       "      <td>G</td>\n",
       "      <td>1970-01-02 01:39:50</td>\n",
       "      <td>1970-01-02 01:42:50</td>\n",
       "    </tr>\n",
       "    <tr>\n",
       "      <th>1970-01-02 01:42:45</th>\n",
       "      <td>G</td>\n",
       "      <td>1970-01-02 01:39:50</td>\n",
       "      <td>1970-01-02 01:42:50</td>\n",
       "    </tr>\n",
       "    <tr>\n",
       "      <th>1970-01-02 01:42:50</th>\n",
       "      <td>G</td>\n",
       "      <td>1970-01-02 01:39:50</td>\n",
       "      <td>1970-01-02 01:42:50</td>\n",
       "    </tr>\n",
       "  </tbody>\n",
       "</table>\n",
       "<p>666 rows × 3 columns</p>\n",
       "</div>"
      ],
      "text/plain": [
       "                    activity      activity_start        activity_end\n",
       "datetime                                                            \n",
       "1970-01-01 22:10:15        D 1970-01-01 22:10:15 1970-01-01 22:13:15\n",
       "1970-01-01 22:10:20        D 1970-01-01 22:10:15 1970-01-01 22:13:15\n",
       "1970-01-01 22:10:25        D 1970-01-01 22:10:15 1970-01-01 22:13:15\n",
       "1970-01-01 22:10:30        D 1970-01-01 22:10:15 1970-01-01 22:13:15\n",
       "1970-01-01 22:10:35        D 1970-01-01 22:10:15 1970-01-01 22:13:15\n",
       "...                      ...                 ...                 ...\n",
       "1970-01-02 01:42:30        G 1970-01-02 01:39:50 1970-01-02 01:42:50\n",
       "1970-01-02 01:42:35        G 1970-01-02 01:39:50 1970-01-02 01:42:50\n",
       "1970-01-02 01:42:40        G 1970-01-02 01:39:50 1970-01-02 01:42:50\n",
       "1970-01-02 01:42:45        G 1970-01-02 01:39:50 1970-01-02 01:42:50\n",
       "1970-01-02 01:42:50        G 1970-01-02 01:39:50 1970-01-02 01:42:50\n",
       "\n",
       "[666 rows x 3 columns]"
      ]
     },
     "execution_count": 41,
     "metadata": {},
     "output_type": "execute_result"
    }
   ],
   "source": [
    "downsampled_data[['activity','activity_start','activity_end']]"
   ]
  },
  {
   "cell_type": "code",
   "execution_count": 29,
   "metadata": {},
   "outputs": [],
   "source": [
    "#bins = np.linspace(int(downsampled_data['z'].min()) ,int(downsampled_data['z'].max()),num=30)"
   ]
  },
  {
   "cell_type": "code",
   "execution_count": 30,
   "metadata": {},
   "outputs": [],
   "source": [
    "#plt.hist(np.digitize(downsampled_data['z'],bins))"
   ]
  },
  {
   "cell_type": "code",
   "execution_count": 31,
   "metadata": {},
   "outputs": [],
   "source": [
    "#downsampled_data['bin_z'] = np.digitize(downsampled_data['z'],bins)"
   ]
  },
  {
   "cell_type": "markdown",
   "metadata": {},
   "source": [
    "Now cluster so each (x,y,z) data point will correspond to given cluster\n",
    "\n",
    "That cluster will be our \"word\""
   ]
  },
  {
   "cell_type": "code",
   "execution_count": 42,
   "metadata": {},
   "outputs": [],
   "source": [
    "from sklearn.cluster import KMeans"
   ]
  },
  {
   "cell_type": "code",
   "execution_count": 43,
   "metadata": {},
   "outputs": [],
   "source": [
    "kmeans = KMeans(n_clusters=30)"
   ]
  },
  {
   "cell_type": "code",
   "execution_count": 44,
   "metadata": {},
   "outputs": [],
   "source": [
    "X, y = downsampled_data[['x','y','z']].to_numpy() , downsampled_data['activity'].to_numpy()"
   ]
  },
  {
   "cell_type": "code",
   "execution_count": 45,
   "metadata": {},
   "outputs": [],
   "source": [
    "def convert_binary_class(response,target):\n",
    "    binary = np.zeros(len(response))\n",
    "    binary[np.where(np.isin(response,target))] = 1\n",
    "    return binary"
   ]
  },
  {
   "cell_type": "code",
   "execution_count": 46,
   "metadata": {},
   "outputs": [],
   "source": [
    "target = ['A','B','C','M','O','R']"
   ]
  },
  {
   "cell_type": "code",
   "execution_count": 47,
   "metadata": {},
   "outputs": [],
   "source": [
    "y = convert_binary_class(y,target)"
   ]
  },
  {
   "cell_type": "code",
   "execution_count": 48,
   "metadata": {},
   "outputs": [
    {
     "data": {
      "text/plain": [
       "KMeans(n_clusters=30)"
      ]
     },
     "execution_count": 48,
     "metadata": {},
     "output_type": "execute_result"
    }
   ],
   "source": [
    "kmeans.fit(X)"
   ]
  },
  {
   "cell_type": "code",
   "execution_count": 49,
   "metadata": {},
   "outputs": [],
   "source": [
    "downsampled_data['cluster'] = kmeans.labels_"
   ]
  },
  {
   "cell_type": "code",
   "execution_count": 50,
   "metadata": {},
   "outputs": [
    {
     "data": {
      "text/plain": [
       "<AxesSubplot:>"
      ]
     },
     "execution_count": 50,
     "metadata": {},
     "output_type": "execute_result"
    },
    {
     "data": {
      "image/png": "[encoded data removed]",
      "text/plain": [
       "<Figure size 432x288 with 1 Axes>"
      ]
     },
     "metadata": {
      "needs_background": "light"
     },
     "output_type": "display_data"
    }
   ],
   "source": [
    "downsampled_data['cluster'].hist()"
   ]
  },
  {
   "cell_type": "code",
   "execution_count": 51,
   "metadata": {},
   "outputs": [],
   "source": [
    "# Run Log regression for baseline\n",
    "from sklearn.linear_model import LogisticRegression"
   ]
  },
  {
   "cell_type": "code",
   "execution_count": 52,
   "metadata": {},
   "outputs": [],
   "source": [
    "lr = LogisticRegression()"
   ]
  },
  {
   "cell_type": "code",
   "execution_count": 53,
   "metadata": {},
   "outputs": [
    {
     "data": {
      "text/plain": [
       "array([[ 2.2190604 , -0.8771811 ,  9.68936419],\n",
       "       [ 2.93175989, -1.67045849,  9.17595168],\n",
       "       [ 2.93742183, -1.65489712,  9.18861574],\n",
       "       ...,\n",
       "       [-9.21846662, -0.99061293,  2.01362538],\n",
       "       [-9.08743192, -2.43098862,  1.26555707],\n",
       "       [-7.6486764 ,  1.04995717,  3.71674867]])"
      ]
     },
     "execution_count": 53,
     "metadata": {},
     "output_type": "execute_result"
    }
   ],
   "source": [
    "X"
   ]
  },
  {
   "cell_type": "code",
   "execution_count": 54,
   "metadata": {},
   "outputs": [
    {
     "data": {
      "text/plain": [
       "LogisticRegression()"
      ]
     },
     "execution_count": 54,
     "metadata": {},
     "output_type": "execute_result"
    }
   ],
   "source": [
    "lr.fit(X,y)"
   ]
  },
  {
   "cell_type": "code",
   "execution_count": 55,
   "metadata": {},
   "outputs": [
    {
     "data": {
      "text/plain": [
       "0.7822822822822822"
      ]
     },
     "execution_count": 55,
     "metadata": {},
     "output_type": "execute_result"
    }
   ],
   "source": [
    "lr.score(X,y)"
   ]
  },
  {
   "cell_type": "code",
   "execution_count": 56,
   "metadata": {},
   "outputs": [
    {
     "data": {
      "text/html": [
       "<div>\n",
       "<style scoped>\n",
       "    .dataframe tbody tr th:only-of-type {\n",
       "        vertical-align: middle;\n",
       "    }\n",
       "\n",
       "    .dataframe tbody tr th {\n",
       "        vertical-align: top;\n",
       "    }\n",
       "\n",
       "    .dataframe thead th {\n",
       "        text-align: right;\n",
       "    }\n",
       "</style>\n",
       "<table border=\"1\" class=\"dataframe\">\n",
       "  <thead>\n",
       "    <tr style=\"text-align: right;\">\n",
       "      <th></th>\n",
       "      <th>subject_id</th>\n",
       "      <th>x</th>\n",
       "      <th>y</th>\n",
       "      <th>z</th>\n",
       "      <th>activity</th>\n",
       "      <th>datetime</th>\n",
       "      <th>activity_start</th>\n",
       "      <th>activity_end</th>\n",
       "      <th>cluster</th>\n",
       "    </tr>\n",
       "    <tr>\n",
       "      <th>datetime</th>\n",
       "      <th></th>\n",
       "      <th></th>\n",
       "      <th></th>\n",
       "      <th></th>\n",
       "      <th></th>\n",
       "      <th></th>\n",
       "      <th></th>\n",
       "      <th></th>\n",
       "      <th></th>\n",
       "    </tr>\n",
       "  </thead>\n",
       "  <tbody>\n",
       "    <tr>\n",
       "      <th>1970-01-01 22:10:15</th>\n",
       "      <td>1600.0</td>\n",
       "      <td>2.219060</td>\n",
       "      <td>-0.877181</td>\n",
       "      <td>9.689364</td>\n",
       "      <td>D</td>\n",
       "      <td>1970-01-01 22:10:15</td>\n",
       "      <td>1970-01-01 22:10:15</td>\n",
       "      <td>1970-01-01 22:13:15</td>\n",
       "      <td>3</td>\n",
       "    </tr>\n",
       "    <tr>\n",
       "      <th>1970-01-01 22:10:20</th>\n",
       "      <td>1600.0</td>\n",
       "      <td>2.931760</td>\n",
       "      <td>-1.670458</td>\n",
       "      <td>9.175952</td>\n",
       "      <td>D</td>\n",
       "      <td>1970-01-01 22:10:20</td>\n",
       "      <td>1970-01-01 22:10:15</td>\n",
       "      <td>1970-01-01 22:13:15</td>\n",
       "      <td>3</td>\n",
       "    </tr>\n",
       "    <tr>\n",
       "      <th>1970-01-01 22:10:25</th>\n",
       "      <td>1600.0</td>\n",
       "      <td>2.937422</td>\n",
       "      <td>-1.654897</td>\n",
       "      <td>9.188616</td>\n",
       "      <td>D</td>\n",
       "      <td>1970-01-01 22:10:25</td>\n",
       "      <td>1970-01-01 22:10:15</td>\n",
       "      <td>1970-01-01 22:13:15</td>\n",
       "      <td>3</td>\n",
       "    </tr>\n",
       "    <tr>\n",
       "      <th>1970-01-01 22:10:30</th>\n",
       "      <td>1600.0</td>\n",
       "      <td>2.943252</td>\n",
       "      <td>-1.569615</td>\n",
       "      <td>9.204060</td>\n",
       "      <td>D</td>\n",
       "      <td>1970-01-01 22:10:30</td>\n",
       "      <td>1970-01-01 22:10:15</td>\n",
       "      <td>1970-01-01 22:13:15</td>\n",
       "      <td>3</td>\n",
       "    </tr>\n",
       "    <tr>\n",
       "      <th>1970-01-01 22:10:35</th>\n",
       "      <td>1600.0</td>\n",
       "      <td>2.895176</td>\n",
       "      <td>-1.589822</td>\n",
       "      <td>9.219454</td>\n",
       "      <td>D</td>\n",
       "      <td>1970-01-01 22:10:35</td>\n",
       "      <td>1970-01-01 22:10:15</td>\n",
       "      <td>1970-01-01 22:13:15</td>\n",
       "      <td>3</td>\n",
       "    </tr>\n",
       "  </tbody>\n",
       "</table>\n",
       "</div>"
      ],
      "text/plain": [
       "                     subject_id         x         y         z activity  \\\n",
       "datetime                                                                 \n",
       "1970-01-01 22:10:15      1600.0  2.219060 -0.877181  9.689364        D   \n",
       "1970-01-01 22:10:20      1600.0  2.931760 -1.670458  9.175952        D   \n",
       "1970-01-01 22:10:25      1600.0  2.937422 -1.654897  9.188616        D   \n",
       "1970-01-01 22:10:30      1600.0  2.943252 -1.569615  9.204060        D   \n",
       "1970-01-01 22:10:35      1600.0  2.895176 -1.589822  9.219454        D   \n",
       "\n",
       "                               datetime      activity_start  \\\n",
       "datetime                                                      \n",
       "1970-01-01 22:10:15 1970-01-01 22:10:15 1970-01-01 22:10:15   \n",
       "1970-01-01 22:10:20 1970-01-01 22:10:20 1970-01-01 22:10:15   \n",
       "1970-01-01 22:10:25 1970-01-01 22:10:25 1970-01-01 22:10:15   \n",
       "1970-01-01 22:10:30 1970-01-01 22:10:30 1970-01-01 22:10:15   \n",
       "1970-01-01 22:10:35 1970-01-01 22:10:35 1970-01-01 22:10:15   \n",
       "\n",
       "                           activity_end  cluster  \n",
       "datetime                                          \n",
       "1970-01-01 22:10:15 1970-01-01 22:13:15        3  \n",
       "1970-01-01 22:10:20 1970-01-01 22:13:15        3  \n",
       "1970-01-01 22:10:25 1970-01-01 22:13:15        3  \n",
       "1970-01-01 22:10:30 1970-01-01 22:13:15        3  \n",
       "1970-01-01 22:10:35 1970-01-01 22:13:15        3  "
      ]
     },
     "execution_count": 56,
     "metadata": {},
     "output_type": "execute_result"
    }
   ],
   "source": [
    "downsampled_data.head()"
   ]
  },
  {
   "cell_type": "code",
   "execution_count": 63,
   "metadata": {},
   "outputs": [],
   "source": [
    "def pd_to_sentence(df,target):\n",
    "    sentences = []\n",
    "    activities = list(set(df['activity']))\n",
    "    for a in activities:\n",
    "        sub = df[df['activity'] == a]\n",
    "        sentences.append([' '.join(list(sub['cluster'].apply(lambda x: str(x)))),a,1 if (a in target) else 0])\n",
    "    return pd.DataFrame(sentences,columns=['text','activity','target'])\n",
    "    \n"
   ]
  },
  {
   "cell_type": "code",
   "execution_count": 64,
   "metadata": {},
   "outputs": [],
   "source": [
    "train_text  = pd_to_sentence(downsampled_data,target)"
   ]
  },
  {
   "cell_type": "code",
   "execution_count": 65,
   "metadata": {},
   "outputs": [
    {
     "data": {
      "text/html": [
       "<div>\n",
       "<style scoped>\n",
       "    .dataframe tbody tr th:only-of-type {\n",
       "        vertical-align: middle;\n",
       "    }\n",
       "\n",
       "    .dataframe tbody tr th {\n",
       "        vertical-align: top;\n",
       "    }\n",
       "\n",
       "    .dataframe thead th {\n",
       "        text-align: right;\n",
       "    }\n",
       "</style>\n",
       "<table border=\"1\" class=\"dataframe\">\n",
       "  <thead>\n",
       "    <tr style=\"text-align: right;\">\n",
       "      <th></th>\n",
       "      <th>text</th>\n",
       "      <th>activity</th>\n",
       "      <th>target</th>\n",
       "    </tr>\n",
       "  </thead>\n",
       "  <tbody>\n",
       "    <tr>\n",
       "      <th>0</th>\n",
       "      <td>1 1 1 1 1 1 1 1 1 1 1 1 1 1 1 1 1 1 1 1 1 1 1 ...</td>\n",
       "      <td>E</td>\n",
       "      <td>0</td>\n",
       "    </tr>\n",
       "    <tr>\n",
       "      <th>1</th>\n",
       "      <td>1 10 10 10 10 10 10 10 1 10 1 10 10 10 1 10 10...</td>\n",
       "      <td>A</td>\n",
       "      <td>1</td>\n",
       "    </tr>\n",
       "    <tr>\n",
       "      <th>2</th>\n",
       "      <td>23 4 13 13 4 13 4 4 13 4 4 13 25 13 13 4 13 13...</td>\n",
       "      <td>K</td>\n",
       "      <td>0</td>\n",
       "    </tr>\n",
       "    <tr>\n",
       "      <th>3</th>\n",
       "      <td>15 1 1 27 27 27 27 27 27 27 27 27 1 1 27 27 27...</td>\n",
       "      <td>M</td>\n",
       "      <td>1</td>\n",
       "    </tr>\n",
       "    <tr>\n",
       "      <th>4</th>\n",
       "      <td>19 19 2 2 2 18 25 19 2 2 19 12 18 19 19 19 19 ...</td>\n",
       "      <td>I</td>\n",
       "      <td>0</td>\n",
       "    </tr>\n",
       "    <tr>\n",
       "      <th>5</th>\n",
       "      <td>26 19 29 2 23 29 21 21 0 2 29 25 0 25 0 14 21 ...</td>\n",
       "      <td>S</td>\n",
       "      <td>0</td>\n",
       "    </tr>\n",
       "    <tr>\n",
       "      <th>6</th>\n",
       "      <td>7 7 7 7 7 7 7 7 7 7 7 7 7 7 7 7 7 7 7 7 7 7 7 ...</td>\n",
       "      <td>F</td>\n",
       "      <td>0</td>\n",
       "    </tr>\n",
       "    <tr>\n",
       "      <th>7</th>\n",
       "      <td>25 24 25 24 8 25 24 8 24 8 21 25 24 25 24 8 25...</td>\n",
       "      <td>L</td>\n",
       "      <td>0</td>\n",
       "    </tr>\n",
       "    <tr>\n",
       "      <th>8</th>\n",
       "      <td>23 12 4 13 19 12 23 4 13 4 12 23 4 4 4 4 13 4 ...</td>\n",
       "      <td>G</td>\n",
       "      <td>0</td>\n",
       "    </tr>\n",
       "    <tr>\n",
       "      <th>9</th>\n",
       "      <td>9 28 28 28 28 28 15 5 5 5 5 5 5 5 5 5 5 5 5 5 ...</td>\n",
       "      <td>P</td>\n",
       "      <td>0</td>\n",
       "    </tr>\n",
       "    <tr>\n",
       "      <th>10</th>\n",
       "      <td>9 9 28 15 9 9 15 15 9 15 15 15 15 9 15 5 9 11 ...</td>\n",
       "      <td>O</td>\n",
       "      <td>1</td>\n",
       "    </tr>\n",
       "    <tr>\n",
       "      <th>11</th>\n",
       "      <td>26 20 20 20 20 20 20 16 16 16 20 20 20 20 20 2...</td>\n",
       "      <td>Q</td>\n",
       "      <td>0</td>\n",
       "    </tr>\n",
       "    <tr>\n",
       "      <th>12</th>\n",
       "      <td>3 3 3 3 3 3 3 3 3 3 3 3 3 3 3 3 3 3 3 3 3 3 3 ...</td>\n",
       "      <td>D</td>\n",
       "      <td>0</td>\n",
       "    </tr>\n",
       "    <tr>\n",
       "      <th>13</th>\n",
       "      <td>11 16 16 16 16 16 16 20 16 16 29 29 11 16 16 2...</td>\n",
       "      <td>B</td>\n",
       "      <td>1</td>\n",
       "    </tr>\n",
       "    <tr>\n",
       "      <th>14</th>\n",
       "      <td>17 17 15 17 17 17 17 17 17 17 17 17 17 17 17 1...</td>\n",
       "      <td>C</td>\n",
       "      <td>1</td>\n",
       "    </tr>\n",
       "    <tr>\n",
       "      <th>15</th>\n",
       "      <td>18 21 6 26 6 26 21 6 21 26 21 18 26 6 26 26 7 ...</td>\n",
       "      <td>J</td>\n",
       "      <td>0</td>\n",
       "    </tr>\n",
       "    <tr>\n",
       "      <th>16</th>\n",
       "      <td>14 14 6 6 6 6 6 14 14 14 24 24 6 14 14 14 6 6 ...</td>\n",
       "      <td>H</td>\n",
       "      <td>0</td>\n",
       "    </tr>\n",
       "    <tr>\n",
       "      <th>17</th>\n",
       "      <td>19 19 2 19 19 19 19 19 19 19 19 19 19 19 12 12...</td>\n",
       "      <td>R</td>\n",
       "      <td>1</td>\n",
       "    </tr>\n",
       "  </tbody>\n",
       "</table>\n",
       "</div>"
      ],
      "text/plain": [
       "                                                 text activity  target\n",
       "0   1 1 1 1 1 1 1 1 1 1 1 1 1 1 1 1 1 1 1 1 1 1 1 ...        E       0\n",
       "1   1 10 10 10 10 10 10 10 1 10 1 10 10 10 1 10 10...        A       1\n",
       "2   23 4 13 13 4 13 4 4 13 4 4 13 25 13 13 4 13 13...        K       0\n",
       "3   15 1 1 27 27 27 27 27 27 27 27 27 1 1 27 27 27...        M       1\n",
       "4   19 19 2 2 2 18 25 19 2 2 19 12 18 19 19 19 19 ...        I       0\n",
       "5   26 19 29 2 23 29 21 21 0 2 29 25 0 25 0 14 21 ...        S       0\n",
       "6   7 7 7 7 7 7 7 7 7 7 7 7 7 7 7 7 7 7 7 7 7 7 7 ...        F       0\n",
       "7   25 24 25 24 8 25 24 8 24 8 21 25 24 25 24 8 25...        L       0\n",
       "8   23 12 4 13 19 12 23 4 13 4 12 23 4 4 4 4 13 4 ...        G       0\n",
       "9   9 28 28 28 28 28 15 5 5 5 5 5 5 5 5 5 5 5 5 5 ...        P       0\n",
       "10  9 9 28 15 9 9 15 15 9 15 15 15 15 9 15 5 9 11 ...        O       1\n",
       "11  26 20 20 20 20 20 20 16 16 16 20 20 20 20 20 2...        Q       0\n",
       "12  3 3 3 3 3 3 3 3 3 3 3 3 3 3 3 3 3 3 3 3 3 3 3 ...        D       0\n",
       "13  11 16 16 16 16 16 16 20 16 16 29 29 11 16 16 2...        B       1\n",
       "14  17 17 15 17 17 17 17 17 17 17 17 17 17 17 17 1...        C       1\n",
       "15  18 21 6 26 6 26 21 6 21 26 21 18 26 6 26 26 7 ...        J       0\n",
       "16  14 14 6 6 6 6 6 14 14 14 24 24 6 14 14 14 6 6 ...        H       0\n",
       "17  19 19 2 19 19 19 19 19 19 19 19 19 19 19 12 12...        R       1"
      ]
     },
     "execution_count": 65,
     "metadata": {},
     "output_type": "execute_result"
    }
   ],
   "source": [
    "train_text"
   ]
  },
  {
   "cell_type": "code",
   "execution_count": 66,
   "metadata": {},
   "outputs": [],
   "source": [
    "text = train_text['text'].str.cat(sep=' ')"
   ]
  },
  {
   "cell_type": "code",
   "execution_count": 67,
   "metadata": {},
   "outputs": [],
   "source": [
    "vocab = list(set(text.split()))"
   ]
  },
  {
   "cell_type": "code",
   "execution_count": 68,
   "metadata": {},
   "outputs": [],
   "source": [
    "from random_word import RandomWords\n",
    "r = RandomWords()"
   ]
  },
  {
   "cell_type": "code",
   "execution_count": 69,
   "metadata": {},
   "outputs": [],
   "source": [
    "def clean_word(w):\n",
    "    return w.lower().strip().replace(\".\",\"\").replace(\",\",\"\")"
   ]
  },
  {
   "cell_type": "code",
   "execution_count": 70,
   "metadata": {},
   "outputs": [],
   "source": [
    "dostoy = \"Above all dont lie to yourself. The man who lies to himself and listens to his own lie comes to a point that he cannot distinguish the truth within him, or around him, and so loses all respect for himself and for others. And having no respect he ceases to love\""
   ]
  },
  {
   "cell_type": "code",
   "execution_count": 71,
   "metadata": {},
   "outputs": [],
   "source": [
    "dostoy_vocab = list(set([clean_word(w) for w in dostoy.split()]))"
   ]
  },
  {
   "cell_type": "code",
   "execution_count": 72,
   "metadata": {},
   "outputs": [],
   "source": [
    "cluster_to_word = {int(c):dostoy_vocab[int(c)] for c in vocab}"
   ]
  },
  {
   "cell_type": "code",
   "execution_count": 73,
   "metadata": {},
   "outputs": [],
   "source": [
    "sentences = list(train_text['text'])"
   ]
  },
  {
   "cell_type": "code",
   "execution_count": 74,
   "metadata": {},
   "outputs": [
    {
     "data": {
      "text/plain": [
       "['1 1 1 1 1 1 1 1 1 1 1 1 1 1 1 1 1 1 1 1 1 1 1 1 1 1 1 1 1 1 1 1 1 1 1 1 1',\n",
       " '1 10 10 10 10 10 10 10 1 10 1 10 10 10 1 10 10 10 10 10 10 1 1 10 10 10 10 10 10 27 27 10 10 10 10 5 27',\n",
       " '23 4 13 13 4 13 4 4 13 4 4 13 25 13 13 4 13 13 4 4 13 4 13 4 4 13 25 13 12 4 13 4 13 4 4 13 13',\n",
       " '15 1 1 27 27 27 27 27 27 27 27 27 1 1 27 27 27 1 1 1 27 27 1 1 17 27 27 27 1 27 1 27 1 27 27 17 1',\n",
       " '19 19 2 2 2 18 25 19 2 2 19 12 18 19 19 19 19 19 19 19 19 21 19 18 19 21 2 21 21 2 2 19 2 19 2 2 2',\n",
       " '26 19 29 2 23 29 21 21 0 2 29 25 0 25 0 14 21 0 0 21 29 6 29 2 0 24 0 8 2 20 21 2 20 8 6 8 16',\n",
       " '7 7 7 7 7 7 7 7 7 7 7 7 7 7 7 7 7 7 7 7 7 7 7 7 7 7 7 7 7 7 7 7 7 7 7 7 7',\n",
       " '25 24 25 24 8 25 24 8 24 8 21 25 24 25 24 8 25 21 25 8 8 25 25 2 25 25 8 8 8 2 24 25 24 8 21 8 8',\n",
       " '23 12 4 13 19 12 23 4 13 4 12 23 4 4 4 4 13 4 4 13 4 4 23 13 23 13 4 4 13 23 13 13 4 4 4 4 23',\n",
       " '9 28 28 28 28 28 15 5 5 5 5 5 5 5 5 5 5 5 5 5 5 5 5 28 5 27 28 5 5 5 5 5 5 5 5 28 28',\n",
       " '9 9 28 15 9 9 15 15 9 15 15 15 15 9 15 5 9 11 9 15 9 15 22 9 28 15 9 9 15 15 9 11 9 9 9 9 6',\n",
       " '26 20 20 20 20 20 20 16 16 16 20 20 20 20 20 20 20 20 20 20 20 20 20 16 20 20 16 20 16 20 20 20 20 20 20 20 20',\n",
       " '3 3 3 3 3 3 3 3 3 3 3 3 3 3 3 3 3 3 3 3 3 3 3 3 3 3 3 22 22 22 22 22 22 22 22 22 22',\n",
       " '11 16 16 16 16 16 16 20 16 16 29 29 11 16 16 29 11 16 29 29 16 16 29 16 16 16 16 29 29 29 11 11 16 16 11 11 11',\n",
       " '17 17 15 17 17 17 17 17 17 17 17 17 17 17 17 17 17 17 17 17 17 17 17 17 17 17 17 17 17 17 17 17 17 17 17 27 27',\n",
       " '18 21 6 26 6 26 21 6 21 26 21 18 26 6 26 26 7 18 21 18 26 21 26 21 26 21 6 18 18 21 18 21 21 26 26 26 26',\n",
       " '14 14 6 6 6 6 6 14 14 14 24 24 6 14 14 14 6 6 6 6 14 6 14 14 6 6 6 6 14 14 14 14 6 6 6 6 14',\n",
       " '19 19 2 19 19 19 19 19 19 19 19 19 19 19 12 12 12 12 12 19 12 23 12 12 12 12 12 12 12 12 12 12 12 4 12 12 23']"
      ]
     },
     "execution_count": 74,
     "metadata": {},
     "output_type": "execute_result"
    }
   ],
   "source": [
    "sentences"
   ]
  },
  {
   "cell_type": "code",
   "execution_count": 75,
   "metadata": {},
   "outputs": [
    {
     "data": {
      "text/plain": [
       "18"
      ]
     },
     "execution_count": 75,
     "metadata": {},
     "output_type": "execute_result"
    }
   ],
   "source": [
    "len(sentences)"
   ]
  },
  {
   "cell_type": "code",
   "execution_count": 76,
   "metadata": {},
   "outputs": [
    {
     "data": {
      "text/plain": [
       "'1 1 1 1 1 1 1 1 1 1 1 1 1 1 1 1 1 1 1 1 1 1 1 1 1 1 1 1 1 1 1 1 1 1 1 1 1'"
      ]
     },
     "execution_count": 76,
     "metadata": {},
     "output_type": "execute_result"
    }
   ],
   "source": [
    "sentences[0].replace(\"13\",\"a\")"
   ]
  },
  {
   "cell_type": "code",
   "execution_count": 77,
   "metadata": {},
   "outputs": [
    {
     "data": {
      "text/plain": [
       "{18: 'around',\n",
       " 6: 'so',\n",
       " 2: 'for',\n",
       " 14: 'who',\n",
       " 3: 'his',\n",
       " 19: 'and',\n",
       " 5: 'listens',\n",
       " 12: 'to',\n",
       " 29: 'dont',\n",
       " 27: 'own',\n",
       " 10: 'ceases',\n",
       " 16: 'lies',\n",
       " 26: 'love',\n",
       " 9: 'himself',\n",
       " 20: 'others',\n",
       " 17: 'cannot',\n",
       " 8: 'that',\n",
       " 4: 'respect',\n",
       " 7: 'the',\n",
       " 1: 'distinguish',\n",
       " 28: 'truth',\n",
       " 11: 'yourself',\n",
       " 0: 'he',\n",
       " 15: 'within',\n",
       " 21: 'lie',\n",
       " 22: 'a',\n",
       " 13: 'man',\n",
       " 23: 'or',\n",
       " 25: 'him',\n",
       " 24: 'comes'}"
      ]
     },
     "execution_count": 77,
     "metadata": {},
     "output_type": "execute_result"
    }
   ],
   "source": [
    "cluster_to_word"
   ]
  },
  {
   "cell_type": "code",
   "execution_count": 78,
   "metadata": {},
   "outputs": [],
   "source": [
    "def convert_cluster_word(sentences):\n",
    "    new_sentences = []\n",
    "    for s in sentences:\n",
    "        sn = \"\"\n",
    "        for w in s.split():\n",
    "            #print(int(w))\n",
    "            sn += cluster_to_word[int(w)] + \" \"\n",
    "        new_sentences.append(sn.strip())\n",
    "    return new_sentences"
   ]
  },
  {
   "cell_type": "code",
   "execution_count": 79,
   "metadata": {},
   "outputs": [
    {
     "data": {
      "text/plain": [
       "'1 1 1 1 1 1 1 1 1 1 1 1 1 1 1 1 1 1 1 1 1 1 1 1 1 1 1 1 1 1 1 1 1 1 1 1 1'"
      ]
     },
     "execution_count": 79,
     "metadata": {},
     "output_type": "execute_result"
    }
   ],
   "source": [
    "sentences[0]"
   ]
  },
  {
   "cell_type": "code",
   "execution_count": 106,
   "metadata": {},
   "outputs": [],
   "source": [
    "word_sentences = convert_cluster_word(sentences)"
   ]
  },
  {
   "cell_type": "markdown",
   "metadata": {},
   "source": [
    "# WORD2VEC"
   ]
  },
  {
   "cell_type": "code",
   "execution_count": 81,
   "metadata": {},
   "outputs": [],
   "source": [
    "from gensim.models import Word2Vec\n",
    "from gensim import utils"
   ]
  },
  {
   "cell_type": "code",
   "execution_count": 82,
   "metadata": {},
   "outputs": [],
   "source": [
    "import gensim.models"
   ]
  },
  {
   "cell_type": "code",
   "execution_count": 83,
   "metadata": {},
   "outputs": [],
   "source": [
    "word_sentences2 = [s.split() for s in word_sentences]"
   ]
  },
  {
   "cell_type": "code",
   "execution_count": 84,
   "metadata": {},
   "outputs": [],
   "source": [
    "model = gensim.models.Word2Vec(sentences=word_sentences2,size=100, window=5, min_count=1, workers=4)"
   ]
  },
  {
   "cell_type": "code",
   "execution_count": 85,
   "metadata": {},
   "outputs": [
    {
     "data": {
      "text/plain": [
       "{'distinguish': <gensim.models.keyedvectors.Vocab at 0x7fa2eb2282e0>,\n",
       " 'ceases': <gensim.models.keyedvectors.Vocab at 0x7fa2eb228280>,\n",
       " 'own': <gensim.models.keyedvectors.Vocab at 0x7fa2eb2281f0>,\n",
       " 'listens': <gensim.models.keyedvectors.Vocab at 0x7fa2eb228610>,\n",
       " 'or': <gensim.models.keyedvectors.Vocab at 0x7fa2eb228670>,\n",
       " 'respect': <gensim.models.keyedvectors.Vocab at 0x7fa2eb2286d0>,\n",
       " 'man': <gensim.models.keyedvectors.Vocab at 0x7fa2eb228730>,\n",
       " 'him': <gensim.models.keyedvectors.Vocab at 0x7fa2eb228790>,\n",
       " 'to': <gensim.models.keyedvectors.Vocab at 0x7fa2eb2287f0>,\n",
       " 'within': <gensim.models.keyedvectors.Vocab at 0x7fa2eb228850>,\n",
       " 'cannot': <gensim.models.keyedvectors.Vocab at 0x7fa2eb2288b0>,\n",
       " 'and': <gensim.models.keyedvectors.Vocab at 0x7fa2eb228910>,\n",
       " 'for': <gensim.models.keyedvectors.Vocab at 0x7fa2eb228970>,\n",
       " 'around': <gensim.models.keyedvectors.Vocab at 0x7fa2eb2289d0>,\n",
       " 'lie': <gensim.models.keyedvectors.Vocab at 0x7fa31896bcd0>,\n",
       " 'love': <gensim.models.keyedvectors.Vocab at 0x7fa318a09520>,\n",
       " 'dont': <gensim.models.keyedvectors.Vocab at 0x7fa2eb228a60>,\n",
       " 'he': <gensim.models.keyedvectors.Vocab at 0x7fa2eb228ac0>,\n",
       " 'who': <gensim.models.keyedvectors.Vocab at 0x7fa2eb228b20>,\n",
       " 'so': <gensim.models.keyedvectors.Vocab at 0x7fa2eb228b80>,\n",
       " 'comes': <gensim.models.keyedvectors.Vocab at 0x7fa2eb228be0>,\n",
       " 'that': <gensim.models.keyedvectors.Vocab at 0x7fa2eb228c40>,\n",
       " 'others': <gensim.models.keyedvectors.Vocab at 0x7fa2eb228ca0>,\n",
       " 'lies': <gensim.models.keyedvectors.Vocab at 0x7fa2eb228d00>,\n",
       " 'the': <gensim.models.keyedvectors.Vocab at 0x7fa2eb228d60>,\n",
       " 'himself': <gensim.models.keyedvectors.Vocab at 0x7fa2eb228dc0>,\n",
       " 'truth': <gensim.models.keyedvectors.Vocab at 0x7fa2eb228e20>,\n",
       " 'yourself': <gensim.models.keyedvectors.Vocab at 0x7fa2eb228e80>,\n",
       " 'a': <gensim.models.keyedvectors.Vocab at 0x7fa2eb228ee0>,\n",
       " 'his': <gensim.models.keyedvectors.Vocab at 0x7fa2eb228f40>}"
      ]
     },
     "execution_count": 85,
     "metadata": {},
     "output_type": "execute_result"
    }
   ],
   "source": [
    "model.wv.vocab"
   ]
  },
  {
   "cell_type": "code",
   "execution_count": 86,
   "metadata": {},
   "outputs": [],
   "source": [
    "vectors = [model.wv[v] for v in model.wv.vocab]"
   ]
  },
  {
   "cell_type": "code",
   "execution_count": 87,
   "metadata": {},
   "outputs": [],
   "source": [
    "def add_cluster_features(model,cluster):\n",
    "    \n",
    "    word = cluster_to_word[int(cluster)]\n",
    "    return model.wv[word]"
   ]
  },
  {
   "cell_type": "code",
   "execution_count": 89,
   "metadata": {},
   "outputs": [],
   "source": [
    "downsampled_data['c_feature'] = downsampled_data['cluster'].apply(lambda x: add_cluster_features(model,x))"
   ]
  },
  {
   "cell_type": "code",
   "execution_count": 90,
   "metadata": {},
   "outputs": [],
   "source": [
    "downsampled_data['target'] = y"
   ]
  },
  {
   "cell_type": "code",
   "execution_count": 91,
   "metadata": {},
   "outputs": [
    {
     "data": {
      "text/html": [
       "<div>\n",
       "<style scoped>\n",
       "    .dataframe tbody tr th:only-of-type {\n",
       "        vertical-align: middle;\n",
       "    }\n",
       "\n",
       "    .dataframe tbody tr th {\n",
       "        vertical-align: top;\n",
       "    }\n",
       "\n",
       "    .dataframe thead th {\n",
       "        text-align: right;\n",
       "    }\n",
       "</style>\n",
       "<table border=\"1\" class=\"dataframe\">\n",
       "  <thead>\n",
       "    <tr style=\"text-align: right;\">\n",
       "      <th></th>\n",
       "      <th>subject_id</th>\n",
       "      <th>x</th>\n",
       "      <th>y</th>\n",
       "      <th>z</th>\n",
       "      <th>activity</th>\n",
       "      <th>datetime</th>\n",
       "      <th>activity_start</th>\n",
       "      <th>activity_end</th>\n",
       "      <th>cluster</th>\n",
       "      <th>c_feature</th>\n",
       "      <th>target</th>\n",
       "    </tr>\n",
       "    <tr>\n",
       "      <th>datetime</th>\n",
       "      <th></th>\n",
       "      <th></th>\n",
       "      <th></th>\n",
       "      <th></th>\n",
       "      <th></th>\n",
       "      <th></th>\n",
       "      <th></th>\n",
       "      <th></th>\n",
       "      <th></th>\n",
       "      <th></th>\n",
       "      <th></th>\n",
       "    </tr>\n",
       "  </thead>\n",
       "  <tbody>\n",
       "    <tr>\n",
       "      <th>1970-01-01 22:10:15</th>\n",
       "      <td>1600.0</td>\n",
       "      <td>2.219060</td>\n",
       "      <td>-0.877181</td>\n",
       "      <td>9.689364</td>\n",
       "      <td>D</td>\n",
       "      <td>1970-01-01 22:10:15</td>\n",
       "      <td>1970-01-01 22:10:15</td>\n",
       "      <td>1970-01-01 22:13:15</td>\n",
       "      <td>3</td>\n",
       "      <td>[0.003924744, 0.0049744756, -0.0039761774, -0....</td>\n",
       "      <td>0.0</td>\n",
       "    </tr>\n",
       "    <tr>\n",
       "      <th>1970-01-01 22:10:20</th>\n",
       "      <td>1600.0</td>\n",
       "      <td>2.931760</td>\n",
       "      <td>-1.670458</td>\n",
       "      <td>9.175952</td>\n",
       "      <td>D</td>\n",
       "      <td>1970-01-01 22:10:20</td>\n",
       "      <td>1970-01-01 22:10:15</td>\n",
       "      <td>1970-01-01 22:13:15</td>\n",
       "      <td>3</td>\n",
       "      <td>[0.003924744, 0.0049744756, -0.0039761774, -0....</td>\n",
       "      <td>0.0</td>\n",
       "    </tr>\n",
       "    <tr>\n",
       "      <th>1970-01-01 22:10:25</th>\n",
       "      <td>1600.0</td>\n",
       "      <td>2.937422</td>\n",
       "      <td>-1.654897</td>\n",
       "      <td>9.188616</td>\n",
       "      <td>D</td>\n",
       "      <td>1970-01-01 22:10:25</td>\n",
       "      <td>1970-01-01 22:10:15</td>\n",
       "      <td>1970-01-01 22:13:15</td>\n",
       "      <td>3</td>\n",
       "      <td>[0.003924744, 0.0049744756, -0.0039761774, -0....</td>\n",
       "      <td>0.0</td>\n",
       "    </tr>\n",
       "    <tr>\n",
       "      <th>1970-01-01 22:10:30</th>\n",
       "      <td>1600.0</td>\n",
       "      <td>2.943252</td>\n",
       "      <td>-1.569615</td>\n",
       "      <td>9.204060</td>\n",
       "      <td>D</td>\n",
       "      <td>1970-01-01 22:10:30</td>\n",
       "      <td>1970-01-01 22:10:15</td>\n",
       "      <td>1970-01-01 22:13:15</td>\n",
       "      <td>3</td>\n",
       "      <td>[0.003924744, 0.0049744756, -0.0039761774, -0....</td>\n",
       "      <td>0.0</td>\n",
       "    </tr>\n",
       "    <tr>\n",
       "      <th>1970-01-01 22:10:35</th>\n",
       "      <td>1600.0</td>\n",
       "      <td>2.895176</td>\n",
       "      <td>-1.589822</td>\n",
       "      <td>9.219454</td>\n",
       "      <td>D</td>\n",
       "      <td>1970-01-01 22:10:35</td>\n",
       "      <td>1970-01-01 22:10:15</td>\n",
       "      <td>1970-01-01 22:13:15</td>\n",
       "      <td>3</td>\n",
       "      <td>[0.003924744, 0.0049744756, -0.0039761774, -0....</td>\n",
       "      <td>0.0</td>\n",
       "    </tr>\n",
       "  </tbody>\n",
       "</table>\n",
       "</div>"
      ],
      "text/plain": [
       "                     subject_id         x         y         z activity  \\\n",
       "datetime                                                                 \n",
       "1970-01-01 22:10:15      1600.0  2.219060 -0.877181  9.689364        D   \n",
       "1970-01-01 22:10:20      1600.0  2.931760 -1.670458  9.175952        D   \n",
       "1970-01-01 22:10:25      1600.0  2.937422 -1.654897  9.188616        D   \n",
       "1970-01-01 22:10:30      1600.0  2.943252 -1.569615  9.204060        D   \n",
       "1970-01-01 22:10:35      1600.0  2.895176 -1.589822  9.219454        D   \n",
       "\n",
       "                               datetime      activity_start  \\\n",
       "datetime                                                      \n",
       "1970-01-01 22:10:15 1970-01-01 22:10:15 1970-01-01 22:10:15   \n",
       "1970-01-01 22:10:20 1970-01-01 22:10:20 1970-01-01 22:10:15   \n",
       "1970-01-01 22:10:25 1970-01-01 22:10:25 1970-01-01 22:10:15   \n",
       "1970-01-01 22:10:30 1970-01-01 22:10:30 1970-01-01 22:10:15   \n",
       "1970-01-01 22:10:35 1970-01-01 22:10:35 1970-01-01 22:10:15   \n",
       "\n",
       "                           activity_end  cluster  \\\n",
       "datetime                                           \n",
       "1970-01-01 22:10:15 1970-01-01 22:13:15        3   \n",
       "1970-01-01 22:10:20 1970-01-01 22:13:15        3   \n",
       "1970-01-01 22:10:25 1970-01-01 22:13:15        3   \n",
       "1970-01-01 22:10:30 1970-01-01 22:13:15        3   \n",
       "1970-01-01 22:10:35 1970-01-01 22:13:15        3   \n",
       "\n",
       "                                                             c_feature  target  \n",
       "datetime                                                                        \n",
       "1970-01-01 22:10:15  [0.003924744, 0.0049744756, -0.0039761774, -0....     0.0  \n",
       "1970-01-01 22:10:20  [0.003924744, 0.0049744756, -0.0039761774, -0....     0.0  \n",
       "1970-01-01 22:10:25  [0.003924744, 0.0049744756, -0.0039761774, -0....     0.0  \n",
       "1970-01-01 22:10:30  [0.003924744, 0.0049744756, -0.0039761774, -0....     0.0  \n",
       "1970-01-01 22:10:35  [0.003924744, 0.0049744756, -0.0039761774, -0....     0.0  "
      ]
     },
     "execution_count": 91,
     "metadata": {},
     "output_type": "execute_result"
    }
   ],
   "source": [
    "downsampled_data.head()"
   ]
  },
  {
   "cell_type": "code",
   "execution_count": 92,
   "metadata": {},
   "outputs": [],
   "source": [
    "features = downsampled_data['c_feature'].to_numpy()"
   ]
  },
  {
   "cell_type": "code",
   "execution_count": 93,
   "metadata": {},
   "outputs": [],
   "source": [
    "X_features = np.array([f for f in features])"
   ]
  },
  {
   "cell_type": "code",
   "execution_count": 94,
   "metadata": {},
   "outputs": [
    {
     "data": {
      "text/plain": [
       "(666, 100)"
      ]
     },
     "execution_count": 94,
     "metadata": {},
     "output_type": "execute_result"
    }
   ],
   "source": [
    "X_features.shape"
   ]
  },
  {
   "cell_type": "code",
   "execution_count": 95,
   "metadata": {},
   "outputs": [],
   "source": [
    "feature_lr = LogisticRegression()"
   ]
  },
  {
   "cell_type": "code",
   "execution_count": 96,
   "metadata": {},
   "outputs": [
    {
     "data": {
      "text/plain": [
       "LogisticRegression()"
      ]
     },
     "execution_count": 96,
     "metadata": {},
     "output_type": "execute_result"
    }
   ],
   "source": [
    "feature_lr.fit(X_features,y)"
   ]
  },
  {
   "cell_type": "code",
   "execution_count": 97,
   "metadata": {},
   "outputs": [
    {
     "data": {
      "text/plain": [
       "0.6666666666666666"
      ]
     },
     "execution_count": 97,
     "metadata": {},
     "output_type": "execute_result"
    }
   ],
   "source": [
    "feature_lr.score(X_features,y)"
   ]
  },
  {
   "cell_type": "code",
   "execution_count": 98,
   "metadata": {},
   "outputs": [],
   "source": [
    "K = lambda x, xi: np.dot(x, xi)"
   ]
  },
  {
   "cell_type": "code",
   "execution_count": 99,
   "metadata": {},
   "outputs": [],
   "source": [
    "# data sets -- map to -1, 1 like the textbook\n",
    "X,Y = X_features.copy(), y.copy()\n",
    "Y[Y==0] = -1\n",
    "xp = X[Y == 1, :]\n",
    "xn = X[Y == -1, :]\n",
    "\n",
    "# lengths for positive and negative training data\n",
    "mp = np.shape(xp)[0]\n",
    "mn = np.shape(xn)[0]\n",
    "\n",
    "# combute b\n",
    "b = 0\n",
    "total_calcs = np.shape(xp)[0]**2 + np.shape(xn)[0]**2\n",
    "for xi in xp:\n",
    "    for xj in xp:\n",
    "        b -= 1/(mp**2)*K(xi, xj)\n",
    "for xi in xn:\n",
    "    for xj in xn:\n",
    "        b += 1/(mn**2)*K(xi, xj)\n",
    "b *= 0.5\n",
    "b = b"
   ]
  },
  {
   "cell_type": "code",
   "execution_count": 100,
   "metadata": {},
   "outputs": [
    {
     "data": {
      "text/plain": [
       "(444, 100)"
      ]
     },
     "execution_count": 100,
     "metadata": {},
     "output_type": "execute_result"
    }
   ],
   "source": [
    "xn.shape"
   ]
  },
  {
   "cell_type": "code",
   "execution_count": 101,
   "metadata": {},
   "outputs": [
    {
     "data": {
      "text/plain": [
       "(222, 100)"
      ]
     },
     "execution_count": 101,
     "metadata": {},
     "output_type": "execute_result"
    }
   ],
   "source": [
    "xp.shape"
   ]
  },
  {
   "cell_type": "code",
   "execution_count": 102,
   "metadata": {},
   "outputs": [],
   "source": [
    "def classify_feats_kernel(features_reduced,K):\n",
    "    \"\"\"kernel version\"\"\"\n",
    "    decisions = []\n",
    "    for x in features_reduced:\n",
    "        g = b\n",
    "        for xi in xp:\n",
    "            g += 1/mp * K(x, xi)\n",
    "        for xi in xn:\n",
    "            g -= 1/mn * K(x, xi)\n",
    "        decisions.append(int(np.sign(g) * 0.5 + 0.5))\n",
    "    return np.array(decisions)"
   ]
  },
  {
   "cell_type": "code",
   "execution_count": 103,
   "metadata": {},
   "outputs": [],
   "source": [
    "predictions = classify_feats_kernel(X_features,K)"
   ]
  },
  {
   "cell_type": "code",
   "execution_count": 104,
   "metadata": {},
   "outputs": [],
   "source": [
    "def mean_score(pred,labels):\n",
    "    n = pred.shape[0]\n",
    "    score = 0.0\n",
    "    for i in range(n):\n",
    "        if pred[i] == labels[i]:\n",
    "            score += 1\n",
    "  \n",
    "    return score / n"
   ]
  },
  {
   "cell_type": "code",
   "execution_count": 105,
   "metadata": {},
   "outputs": [
    {
     "data": {
      "text/plain": [
       "0.8633633633633634"
      ]
     },
     "execution_count": 105,
     "metadata": {},
     "output_type": "execute_result"
    }
   ],
   "source": [
    "mean_score(predictions,y)"
   ]
  },
  {
   "cell_type": "code",
   "execution_count": null,
   "metadata": {},
   "outputs": [],
   "source": []
  },
  {
   "cell_type": "code",
   "execution_count": null,
   "metadata": {},
   "outputs": [],
   "source": []
  }
 ],
 "metadata": {
  "kernelspec": {
   "display_name": "Python 3",
   "language": "python",
   "name": "python3"
  },
  "language_info": {
   "codemirror_mode": {
    "name": "ipython",
    "version": 3
   },
   "file_extension": ".py",
   "mimetype": "text/x-python",
   "name": "python",
   "nbconvert_exporter": "python",
   "pygments_lexer": "ipython3",
   "version": "3.9.0"
  }
 },
 "nbformat": 4,
 "nbformat_minor": 4
}
